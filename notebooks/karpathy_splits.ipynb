{
 "cells": [
  {
   "cell_type": "code",
   "execution_count": 43,
   "metadata": {},
   "outputs": [],
   "source": [
    "import json\n",
    "import os"
   ]
  },
  {
   "cell_type": "code",
   "execution_count": 49,
   "metadata": {},
   "outputs": [],
   "source": [
    "file_path = \"../data/flickr30k_images/caption_datasets/dataset_flickr30k.json\"\n",
    "root_path = \"../data/flickr30k_images/flickr30k_images\""
   ]
  },
  {
   "cell_type": "code",
   "execution_count": 20,
   "metadata": {},
   "outputs": [],
   "source": [
    "with open(file_path, \"r\") as file:\n",
    "    data = json.load(file)"
   ]
  },
  {
   "cell_type": "code",
   "execution_count": 21,
   "metadata": {},
   "outputs": [],
   "source": [
    "# data"
   ]
  },
  {
   "cell_type": "code",
   "execution_count": 22,
   "metadata": {},
   "outputs": [
    {
     "data": {
      "text/plain": [
       "2"
      ]
     },
     "execution_count": 22,
     "metadata": {},
     "output_type": "execute_result"
    }
   ],
   "source": [
    "len(data)"
   ]
  },
  {
   "cell_type": "code",
   "execution_count": 23,
   "metadata": {},
   "outputs": [
    {
     "data": {
      "text/plain": [
       "dict_keys(['images', 'dataset'])"
      ]
     },
     "execution_count": 23,
     "metadata": {},
     "output_type": "execute_result"
    }
   ],
   "source": [
    "data.keys()"
   ]
  },
  {
   "cell_type": "code",
   "execution_count": 24,
   "metadata": {},
   "outputs": [
    {
     "data": {
      "text/plain": [
       "31014"
      ]
     },
     "execution_count": 24,
     "metadata": {},
     "output_type": "execute_result"
    }
   ],
   "source": [
    "len(data['images'])"
   ]
  },
  {
   "cell_type": "code",
   "execution_count": 25,
   "metadata": {},
   "outputs": [
    {
     "data": {
      "text/plain": [
       "{'sentids': [0, 1, 2, 3, 4],\n",
       " 'imgid': 0,\n",
       " 'sentences': [{'tokens': ['two',\n",
       "    'young',\n",
       "    'guys',\n",
       "    'with',\n",
       "    'shaggy',\n",
       "    'hair',\n",
       "    'look',\n",
       "    'at',\n",
       "    'their',\n",
       "    'hands',\n",
       "    'while',\n",
       "    'hanging',\n",
       "    'out',\n",
       "    'in',\n",
       "    'the',\n",
       "    'yard'],\n",
       "   'raw': 'Two young guys with shaggy hair look at their hands while hanging out in the yard.',\n",
       "   'imgid': 0,\n",
       "   'sentid': 0},\n",
       "  {'tokens': ['two',\n",
       "    'young',\n",
       "    'white',\n",
       "    'males',\n",
       "    'are',\n",
       "    'outside',\n",
       "    'near',\n",
       "    'many',\n",
       "    'bushes'],\n",
       "   'raw': 'Two young, White males are outside near many bushes.',\n",
       "   'imgid': 0,\n",
       "   'sentid': 1},\n",
       "  {'tokens': ['two',\n",
       "    'men',\n",
       "    'in',\n",
       "    'green',\n",
       "    'shirts',\n",
       "    'are',\n",
       "    'standing',\n",
       "    'in',\n",
       "    'a',\n",
       "    'yard'],\n",
       "   'raw': 'Two men in green shirts are standing in a yard.',\n",
       "   'imgid': 0,\n",
       "   'sentid': 2},\n",
       "  {'tokens': ['a',\n",
       "    'man',\n",
       "    'in',\n",
       "    'a',\n",
       "    'blue',\n",
       "    'shirt',\n",
       "    'standing',\n",
       "    'in',\n",
       "    'a',\n",
       "    'garden'],\n",
       "   'raw': 'A man in a blue shirt standing in a garden.',\n",
       "   'imgid': 0,\n",
       "   'sentid': 3},\n",
       "  {'tokens': ['two', 'friends', 'enjoy', 'time', 'spent', 'together'],\n",
       "   'raw': 'Two friends enjoy time spent together.',\n",
       "   'imgid': 0,\n",
       "   'sentid': 4}],\n",
       " 'split': 'train',\n",
       " 'filename': '1000092795.jpg'}"
      ]
     },
     "execution_count": 25,
     "metadata": {},
     "output_type": "execute_result"
    }
   ],
   "source": [
    "data['images'][0]"
   ]
  },
  {
   "cell_type": "code",
   "execution_count": 26,
   "metadata": {},
   "outputs": [],
   "source": [
    "data = data['images']"
   ]
  },
  {
   "cell_type": "code",
   "execution_count": 39,
   "metadata": {},
   "outputs": [
    {
     "data": {
      "text/plain": [
       "('1000092795.jpg', 'train')"
      ]
     },
     "execution_count": 39,
     "metadata": {},
     "output_type": "execute_result"
    }
   ],
   "source": [
    "data[0]['filename'], data[0]['split']"
   ]
  },
  {
   "cell_type": "code",
   "execution_count": 37,
   "metadata": {},
   "outputs": [
    {
     "name": "stdout",
     "output_type": "stream",
     "text": [
      "Two young guys with shaggy hair look at their hands while hanging out in the yard.\n",
      "Two young, White males are outside near many bushes.\n",
      "Two men in green shirts are standing in a yard.\n",
      "A man in a blue shirt standing in a garden.\n",
      "Two friends enjoy time spent together.\n"
     ]
    }
   ],
   "source": [
    "for i in range(len(data[0]['sentences'])):\n",
    "    print(data[0]['sentences'][i]['raw'])"
   ]
  },
  {
   "cell_type": "code",
   "execution_count": 27,
   "metadata": {},
   "outputs": [
    {
     "data": {
      "text/plain": [
       "{'test', 'train', 'val'}"
      ]
     },
     "execution_count": 27,
     "metadata": {},
     "output_type": "execute_result"
    }
   ],
   "source": [
    "# Checking the types of splits in the dataset\n",
    "cnt = 0\n",
    "split = []\n",
    "for snt in data:\n",
    "    split.append(snt['split'])\n",
    "    \n",
    "set(split)"
   ]
  },
  {
   "cell_type": "code",
   "execution_count": 29,
   "metadata": {},
   "outputs": [
    {
     "data": {
      "text/plain": [
       "{'train': 29000, 'test': 1000, 'val': 1014}"
      ]
     },
     "execution_count": 29,
     "metadata": {},
     "output_type": "execute_result"
    }
   ],
   "source": [
    "cnt_dict = dict(train=0, test=0, val=0)\n",
    "for snt in data:\n",
    "    cnt_dict[snt['split']] += 1\n",
    "    \n",
    "cnt_dict"
   ]
  },
  {
   "cell_type": "code",
   "execution_count": null,
   "metadata": {},
   "outputs": [],
   "source": [
    "# So, we have in the Karpathy split 29000 train images, 1000 test and 1014 validation images. "
   ]
  },
  {
   "cell_type": "code",
   "execution_count": 38,
   "metadata": {},
   "outputs": [],
   "source": [
    "# I will also check whether all the filenames which are present in the dataset are there in the folder which we \n",
    "# downloaded from kaggle."
   ]
  },
  {
   "cell_type": "code",
   "execution_count": 52,
   "metadata": {},
   "outputs": [],
   "source": [
    "for item in data:\n",
    "    file_name = item['filename']\n",
    "    if not os.path.exists(os.path.join(root_path, file_name)):\n",
    "        print(file_name)"
   ]
  },
  {
   "cell_type": "code",
   "execution_count": 54,
   "metadata": {},
   "outputs": [],
   "source": [
    "# So, all the files in this split are there in the dataset downloaded from kaggle."
   ]
  },
  {
   "cell_type": "code",
   "execution_count": null,
   "metadata": {},
   "outputs": [],
   "source": []
  }
 ],
 "metadata": {
  "kernelspec": {
   "display_name": "im2txt",
   "language": "python",
   "name": "im2txt"
  },
  "language_info": {
   "codemirror_mode": {
    "name": "ipython",
    "version": 3
   },
   "file_extension": ".py",
   "mimetype": "text/x-python",
   "name": "python",
   "nbconvert_exporter": "python",
   "pygments_lexer": "ipython3",
   "version": "3.7.11"
  }
 },
 "nbformat": 4,
 "nbformat_minor": 4
}
